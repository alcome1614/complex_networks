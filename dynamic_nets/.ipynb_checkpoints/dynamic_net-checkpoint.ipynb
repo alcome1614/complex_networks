{
 "cells": [
  {
   "cell_type": "markdown",
   "metadata": {},
   "source": [
    "# Dynamic Nets\n",
    "# Emilio Tylson Baixauli / Alfons Cordoba Meneses"
   ]
  },
  {
   "cell_type": "markdown",
   "metadata": {},
   "source": [
    "We decided to test PyCX that allows to create simple dynamic networks with Networkx. This consist on a simple python script called pycxsimulator.py that provides a library that gives a dynamic GUI for observing evolution of the dynamic networks using NetworkX.\n",
    "NetworkX is a static library that defines the network topology and provides easy ways for accesing and modifying its structure. Particularly it is highly efficient in dealing with dynamic nodes states, so PyCX helps on imulating dynamic state changes taking place on a static network topology.\n",
    "\n",
    "PyCx propose to define at least three methods:\n",
    "\n",
    "* Initialize network structure\n",
    "* Draw the network state\n",
    "* Update States\n"
   ]
  },
  {
   "cell_type": "markdown",
   "metadata": {},
   "source": [
    "# Majority vote\n",
    "\n",
    "\n",
    "(Following code is simply descriptive, the librery does not work in upyter. Original code is in a separate script called dynamic_majority_vote.py)\n",
    "\n",
    "\n",
    "\n",
    "Following a simple majority vote social network that models interactions between individuals. Nodes are individiuals, edeges relarions. Each individual es 0 or 1. Each step updates individual states according to its neighbours states by a majority vote rule. \n",
    "The code presents the above three mentioned methods. Initialize create two global variables that are the current graph and a copy. The copy is used as a canvas for creating the new state. The variables are global so they can be accesed by the other two methods. We used the karate club random graph. The observe method simply draws the network with two colors. Finally the update iterates through each node and consults to its neighbours in order to perform the majority vote. We added a probability to to change the state that is introduced in the dynamic_majority_vote.py script.\n"
   ]
  },
  {
   "cell_type": "code",
   "execution_count": 2,
   "metadata": {},
   "outputs": [],
   "source": [
    "import networkx as nx\n",
    "import matplotlib\n",
    "matplotlib.use(\"TkAgg\")\n",
    "from pylab import *\n",
    "import warnings\n",
    "warnings.filterwarnings('ignore')"
   ]
  },
  {
   "cell_type": "code",
   "execution_count": 3,
   "metadata": {},
   "outputs": [],
   "source": [
    "def initialize():\n",
    "    global g, nextg\n",
    "    g = nx.karate_club_graph()\n",
    "    g.pos = nx.spring_layout(g)\n",
    "    for i in g.nodes_iter():\n",
    "        g.node[i]['state'] = 1 if random() < .5 else 0\n",
    "    nextg = g.copy()\n",
    "    nextg.pos = g.pos\n",
    "    "
   ]
  },
  {
   "cell_type": "code",
   "execution_count": 4,
   "metadata": {},
   "outputs": [],
   "source": [
    "def observe():\n",
    "    global g, nextg\n",
    "    cla()\n",
    "draw\n"
   ]
  },
  {
   "cell_type": "code",
   "execution_count": 5,
   "metadata": {},
   "outputs": [],
   "source": [
    "prob = 0.1\n",
    "def update():\n",
    "    global g, nextg\n",
    "    for i in g.nodes_iter():\n",
    "        count = g.node[i]['state']\n",
    "        for j in g.neighbors(i):\n",
    "            count += g.node[j]['state']\n",
    "        ratio = count / (g.degree(i) + 1.0)\n",
    "        state = 1 if ratio > .5 else 0\n",
    "        state = 1 if random() < prob else state\n",
    "        nextg.node[i]['state'] = state\n",
    "    g, nextg = nextg, g"
   ]
  },
  {
   "cell_type": "code",
   "execution_count": null,
   "metadata": {},
   "outputs": [],
   "source": [
    "import pycxsimulator\n",
    "pycxsimulator.GUI().start(func=[initialize, observe, update])"
   ]
  },
  {
   "cell_type": "code",
   "execution_count": null,
   "metadata": {},
   "outputs": [],
   "source": []
  }
 ],
 "metadata": {
  "kernelspec": {
   "display_name": "Python 3",
   "language": "python",
   "name": "python3"
  },
  "language_info": {
   "codemirror_mode": {
    "name": "ipython",
    "version": 3
   },
   "file_extension": ".py",
   "mimetype": "text/x-python",
   "name": "python",
   "nbconvert_exporter": "python",
   "pygments_lexer": "ipython3",
   "version": "3.7.7"
  }
 },
 "nbformat": 4,
 "nbformat_minor": 4
}
